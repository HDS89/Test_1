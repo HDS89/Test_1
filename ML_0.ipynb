{
 "cells": [
  {
   "cell_type": "code",
   "execution_count": 3,
   "metadata": {},
   "outputs": [],
   "source": [
    "import pandas as pd\n",
    "import numpy as np\n",
    "import matplotlib.pyplot as plt\n",
    "from sklearn import linear_model"
   ]
  },
  {
   "cell_type": "code",
   "execution_count": 4,
   "metadata": {},
   "outputs": [
    {
     "data": {
      "text/html": [
       "<div>\n",
       "<style scoped>\n",
       "    .dataframe tbody tr th:only-of-type {\n",
       "        vertical-align: middle;\n",
       "    }\n",
       "\n",
       "    .dataframe tbody tr th {\n",
       "        vertical-align: top;\n",
       "    }\n",
       "\n",
       "    .dataframe thead th {\n",
       "        text-align: right;\n",
       "    }\n",
       "</style>\n",
       "<table border=\"1\" class=\"dataframe\">\n",
       "  <thead>\n",
       "    <tr style=\"text-align: right;\">\n",
       "      <th></th>\n",
       "      <th>area</th>\n",
       "      <th>price</th>\n",
       "    </tr>\n",
       "  </thead>\n",
       "  <tbody>\n",
       "    <tr>\n",
       "      <td>0</td>\n",
       "      <td>2600.0</td>\n",
       "      <td>550000.0</td>\n",
       "    </tr>\n",
       "    <tr>\n",
       "      <td>1</td>\n",
       "      <td>3000.0</td>\n",
       "      <td>565000.0</td>\n",
       "    </tr>\n",
       "    <tr>\n",
       "      <td>2</td>\n",
       "      <td>3200.0</td>\n",
       "      <td>610000.0</td>\n",
       "    </tr>\n",
       "    <tr>\n",
       "      <td>3</td>\n",
       "      <td>3600.0</td>\n",
       "      <td>680000.0</td>\n",
       "    </tr>\n",
       "    <tr>\n",
       "      <td>4</td>\n",
       "      <td>4000.0</td>\n",
       "      <td>725000.0</td>\n",
       "    </tr>\n",
       "    <tr>\n",
       "      <td>...</td>\n",
       "      <td>...</td>\n",
       "      <td>...</td>\n",
       "    </tr>\n",
       "    <tr>\n",
       "      <td>13314</td>\n",
       "      <td>NaN</td>\n",
       "      <td>NaN</td>\n",
       "    </tr>\n",
       "    <tr>\n",
       "      <td>13315</td>\n",
       "      <td>NaN</td>\n",
       "      <td>NaN</td>\n",
       "    </tr>\n",
       "    <tr>\n",
       "      <td>13316</td>\n",
       "      <td>NaN</td>\n",
       "      <td>NaN</td>\n",
       "    </tr>\n",
       "    <tr>\n",
       "      <td>13317</td>\n",
       "      <td>NaN</td>\n",
       "      <td>NaN</td>\n",
       "    </tr>\n",
       "    <tr>\n",
       "      <td>13318</td>\n",
       "      <td>NaN</td>\n",
       "      <td>NaN</td>\n",
       "    </tr>\n",
       "  </tbody>\n",
       "</table>\n",
       "<p>13319 rows × 2 columns</p>\n",
       "</div>"
      ],
      "text/plain": [
       "         area     price\n",
       "0      2600.0  550000.0\n",
       "1      3000.0  565000.0\n",
       "2      3200.0  610000.0\n",
       "3      3600.0  680000.0\n",
       "4      4000.0  725000.0\n",
       "...       ...       ...\n",
       "13314     NaN       NaN\n",
       "13315     NaN       NaN\n",
       "13316     NaN       NaN\n",
       "13317     NaN       NaN\n",
       "13318     NaN       NaN\n",
       "\n",
       "[13319 rows x 2 columns]"
      ]
     },
     "execution_count": 4,
     "metadata": {},
     "output_type": "execute_result"
    }
   ],
   "source": [
    "df= pd.read_csv('price.csv')\n",
    "df"
   ]
  },
  {
   "cell_type": "code",
   "execution_count": 5,
   "metadata": {},
   "outputs": [
    {
     "data": {
      "text/html": [
       "<div>\n",
       "<style scoped>\n",
       "    .dataframe tbody tr th:only-of-type {\n",
       "        vertical-align: middle;\n",
       "    }\n",
       "\n",
       "    .dataframe tbody tr th {\n",
       "        vertical-align: top;\n",
       "    }\n",
       "\n",
       "    .dataframe thead th {\n",
       "        text-align: right;\n",
       "    }\n",
       "</style>\n",
       "<table border=\"1\" class=\"dataframe\">\n",
       "  <thead>\n",
       "    <tr style=\"text-align: right;\">\n",
       "      <th></th>\n",
       "      <th>area</th>\n",
       "      <th>price</th>\n",
       "    </tr>\n",
       "  </thead>\n",
       "  <tbody>\n",
       "    <tr>\n",
       "      <td>0</td>\n",
       "      <td>2600.0</td>\n",
       "      <td>550000.0</td>\n",
       "    </tr>\n",
       "    <tr>\n",
       "      <td>1</td>\n",
       "      <td>3000.0</td>\n",
       "      <td>565000.0</td>\n",
       "    </tr>\n",
       "    <tr>\n",
       "      <td>2</td>\n",
       "      <td>3200.0</td>\n",
       "      <td>610000.0</td>\n",
       "    </tr>\n",
       "    <tr>\n",
       "      <td>3</td>\n",
       "      <td>3600.0</td>\n",
       "      <td>680000.0</td>\n",
       "    </tr>\n",
       "    <tr>\n",
       "      <td>4</td>\n",
       "      <td>4000.0</td>\n",
       "      <td>725000.0</td>\n",
       "    </tr>\n",
       "  </tbody>\n",
       "</table>\n",
       "</div>"
      ],
      "text/plain": [
       "     area     price\n",
       "0  2600.0  550000.0\n",
       "1  3000.0  565000.0\n",
       "2  3200.0  610000.0\n",
       "3  3600.0  680000.0\n",
       "4  4000.0  725000.0"
      ]
     },
     "execution_count": 5,
     "metadata": {},
     "output_type": "execute_result"
    }
   ],
   "source": [
    "df = df.dropna()\n",
    "df"
   ]
  },
  {
   "cell_type": "code",
   "execution_count": 6,
   "metadata": {},
   "outputs": [],
   "source": [
    "%matplotlib inline\n"
   ]
  },
  {
   "cell_type": "code",
   "execution_count": 7,
   "metadata": {},
   "outputs": [
    {
     "data": {
      "text/plain": [
       "<matplotlib.collections.PathCollection at 0x2a011372948>"
      ]
     },
     "execution_count": 7,
     "metadata": {},
     "output_type": "execute_result"
    },
    {
     "data": {
      "image/png": "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",
      "text/plain": [
       "<Figure size 432x288 with 1 Axes>"
      ]
     },
     "metadata": {
      "needs_background": "light"
     },
     "output_type": "display_data"
    }
   ],
   "source": [
    "plt.xlabel('Area [sq ft]')\n",
    "plt.ylabel('Price [US $]')\n",
    "plt.scatter(df.area,df.price,color='red',marker='+')"
   ]
  },
  {
   "cell_type": "code",
   "execution_count": 8,
   "metadata": {},
   "outputs": [
    {
     "data": {
      "text/plain": [
       "LinearRegression(copy_X=True, fit_intercept=True, n_jobs=None, normalize=False)"
      ]
     },
     "execution_count": 8,
     "metadata": {},
     "output_type": "execute_result"
    }
   ],
   "source": [
    "reg = linear_model.LinearRegression()\n",
    "reg.fit(df[['area']],df.price)"
   ]
  },
  {
   "cell_type": "code",
   "execution_count": 9,
   "metadata": {},
   "outputs": [
    {
     "data": {
      "text/plain": [
       "array([628715.75342466])"
      ]
     },
     "execution_count": 9,
     "metadata": {},
     "output_type": "execute_result"
    }
   ],
   "source": [
    "reg.predict([[3300]])"
   ]
  },
  {
   "cell_type": "code",
   "execution_count": 10,
   "metadata": {},
   "outputs": [
    {
     "data": {
      "text/plain": [
       "array([135.78767123])"
      ]
     },
     "execution_count": 10,
     "metadata": {},
     "output_type": "execute_result"
    }
   ],
   "source": [
    "reg.coef_"
   ]
  },
  {
   "cell_type": "code",
   "execution_count": 11,
   "metadata": {},
   "outputs": [
    {
     "data": {
      "text/plain": [
       "180616.43835616432"
      ]
     },
     "execution_count": 11,
     "metadata": {},
     "output_type": "execute_result"
    }
   ],
   "source": [
    "reg.intercept_"
   ]
  },
  {
   "cell_type": "code",
   "execution_count": 12,
   "metadata": {},
   "outputs": [
    {
     "data": {
      "text/plain": [
       "[<matplotlib.lines.Line2D at 0x2a0177ff908>]"
      ]
     },
     "execution_count": 12,
     "metadata": {},
     "output_type": "execute_result"
    },
    {
     "data": {
      "image/png": "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",
      "text/plain": [
       "<Figure size 432x288 with 1 Axes>"
      ]
     },
     "metadata": {
      "needs_background": "light"
     },
     "output_type": "display_data"
    }
   ],
   "source": [
    "plt.xlabel('area [Sq ft]')\n",
    "plt.ylabel('price [US $]')\n",
    "plt.scatter(df.area,df.price,color='red',marker='+')\n",
    "plt.plot(df.area,reg.predict(df[['area']]))"
   ]
  },
  {
   "cell_type": "code",
   "execution_count": 13,
   "metadata": {
    "scrolled": true
   },
   "outputs": [
    {
     "data": {
      "text/html": [
       "<div>\n",
       "<style scoped>\n",
       "    .dataframe tbody tr th:only-of-type {\n",
       "        vertical-align: middle;\n",
       "    }\n",
       "\n",
       "    .dataframe tbody tr th {\n",
       "        vertical-align: top;\n",
       "    }\n",
       "\n",
       "    .dataframe thead th {\n",
       "        text-align: right;\n",
       "    }\n",
       "</style>\n",
       "<table border=\"1\" class=\"dataframe\">\n",
       "  <thead>\n",
       "    <tr style=\"text-align: right;\">\n",
       "      <th></th>\n",
       "      <th>year</th>\n",
       "      <th>per capita income (US$)</th>\n",
       "    </tr>\n",
       "  </thead>\n",
       "  <tbody>\n",
       "    <tr>\n",
       "      <td>0</td>\n",
       "      <td>1970</td>\n",
       "      <td>3399.299037</td>\n",
       "    </tr>\n",
       "    <tr>\n",
       "      <td>1</td>\n",
       "      <td>1971</td>\n",
       "      <td>3768.297935</td>\n",
       "    </tr>\n",
       "    <tr>\n",
       "      <td>2</td>\n",
       "      <td>1972</td>\n",
       "      <td>4251.175484</td>\n",
       "    </tr>\n",
       "    <tr>\n",
       "      <td>3</td>\n",
       "      <td>1973</td>\n",
       "      <td>4804.463248</td>\n",
       "    </tr>\n",
       "    <tr>\n",
       "      <td>4</td>\n",
       "      <td>1974</td>\n",
       "      <td>5576.514583</td>\n",
       "    </tr>\n",
       "  </tbody>\n",
       "</table>\n",
       "</div>"
      ],
      "text/plain": [
       "   year  per capita income (US$)\n",
       "0  1970              3399.299037\n",
       "1  1971              3768.297935\n",
       "2  1972              4251.175484\n",
       "3  1973              4804.463248\n",
       "4  1974              5576.514583"
      ]
     },
     "execution_count": 13,
     "metadata": {},
     "output_type": "execute_result"
    }
   ],
   "source": [
    "df2= pd.read_csv('canada_per_capita_income.csv')\n",
    "df2.head()"
   ]
  },
  {
   "cell_type": "code",
   "execution_count": 14,
   "metadata": {},
   "outputs": [
    {
     "data": {
      "text/plain": [
       "<matplotlib.collections.PathCollection at 0x2a017b05808>"
      ]
     },
     "execution_count": 14,
     "metadata": {},
     "output_type": "execute_result"
    },
    {
     "data": {
      "image/png": "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",
      "text/plain": [
       "<Figure size 432x288 with 1 Axes>"
      ]
     },
     "metadata": {
      "needs_background": "light"
     },
     "output_type": "display_data"
    }
   ],
   "source": [
    "plt.xlabel('Year')\n",
    "plt.ylabel('Income (US$)')\n",
    "plt.scatter(df2.year,df2['per capita income (US$)'],color='red',marker='+')"
   ]
  },
  {
   "cell_type": "code",
   "execution_count": 15,
   "metadata": {},
   "outputs": [
    {
     "data": {
      "text/plain": [
       "LinearRegression(copy_X=True, fit_intercept=True, n_jobs=None, normalize=False)"
      ]
     },
     "execution_count": 15,
     "metadata": {},
     "output_type": "execute_result"
    }
   ],
   "source": [
    "reg2=linear_model.LinearRegression()\n",
    "reg2.fit(df2[['year']],df2[['per capita income (US$)']])"
   ]
  },
  {
   "cell_type": "code",
   "execution_count": 16,
   "metadata": {},
   "outputs": [
    {
     "data": {
      "text/plain": [
       "[<matplotlib.lines.Line2D at 0x2a017b56408>]"
      ]
     },
     "execution_count": 16,
     "metadata": {},
     "output_type": "execute_result"
    },
    {
     "data": {
      "image/png": "iVBORw0KGgoAAAANSUhEUgAAAYMAAAD4CAYAAAAO9oqkAAAABHNCSVQICAgIfAhkiAAAAAlwSFlzAAALEgAACxIB0t1+/AAAADh0RVh0U29mdHdhcmUAbWF0cGxvdGxpYiB2ZXJzaW9uMy4xLjEsIGh0dHA6Ly9tYXRwbG90bGliLm9yZy8QZhcZAAAgAElEQVR4nO3dd3zV9b3H8deHkLD3hiSEEUZQZgRUrixlCIp1VNQrWK3aVntra+uoXi0gilYcrYqlBSu1Fa21lSCjIKCiooCKmoQRdtgQCCtkfu8f58c1xeyc5Iy8n4/HeeSc72/ke745+b1/39/4HnPOISIiNVutQFdAREQCT2EgIiIKAxERURiIiAgKAxERAWoHugIV1bJlSxcXFxfoaoiIhIz169cfds61KmpayIZBXFwc69atC3Q1RERChpntLG6aDhOJiIjCQEREFAYiIoLCQEREUBiIiAgKAxGRyhs2zPcoa3kQUhiIiEjo3mcgIlKtzu7hr1r13bL33//P12edW1542SCjnoGIiKhnICJSouL2/let+nZPv7g9/xDoEZylnoGIiKhnICJSotL2/osrK6k8CKlnICIi6hmIiJSJv/fyg+x8gnoGIiKinoGISLUq6eqkAFLPQEREyh4GZhZhZl+Y2ULvdScz+9TMtpjZG2YW5ZXX8V6nedPjCq3jQa98k5mNLlQ+xitLM7MH/Pf2RESCzNn7E4YO9T0K368QQOXpGfwMSC30+kngWedcPHAUuM0rvw046pzrCjzrzYeZJQATgV7AGOAlL2AigBeBsUACcIM3r4iIVJMyhYGZRQPjgD95rw0YAbzlzfIqcJX3fIL3Gm/6SG/+CcB851y2c247kAYM9B5pzrltzrkcYL43r4hI+AqSHsFZZe0ZPAfcBxR4r1sAx5xzed7rdKCD97wDsBvAm57pzf//5ecsU1y5iIhUk1LDwMzGAwedc+sLFxcxqytlWnnLi6rLHWa2zszWHTp0qIRai4hIeZSlZ3AxcKWZ7cB3CGcEvp5CUzM7e2lqNLDXe54OxAB405sAGYXLz1mmuPLvcM7Nds4lOucSW7VqVYaqi4hIWZQaBs65B51z0c65OHwngFc4524CVgLXerNNBt7xni/wXuNNX+Gcc175RO9qo05APPAZsBaI965OivJ+xwK/vDsRESmTytx0dj8w38weA74A5njlc4C/mFkavh7BRADnXLKZvQmkAHnAXc65fAAzuxtYCkQAc51zyZWol4iIlJP5dtpDT2Jiolu3bl2gqyEi4SRI7gauKma23jmXWNQ03YEsIiIam0hEJFjHC6pO6hmIiISQgoKqObSvnoGIhKfy7N2X5dvMAuzY6RyeW76FvceymD2pyMP+laIwEBEJYnn5Bbz+2S5mLtvM8axcbhrUkdz8AiIj/HtgR2EgIuGlMsf/g6xH8HHaYaYkpbDpwAku7NyCR69MoEfbxlXyuxQGIiJBZteR00xflMLS5APENK/Hy/89gNG92uAb87NqKAxEJLyEwPH/4pzKzuOlVWn88cPt1K5l/Gp0d24b0om6kRFV/rsVBiIiAVZQ4PjnF3t4cslGDp7I5nv9OnD/mB60bVK32uqgMBCR0FZcDyBEegRf7DrKb5JS2LD7GH1imvLyzQPoH9us2uuhMBARCYADx8/w5OKNvP3FHlo1qsPM6/rwvX4dqFWr6s4LlERhICKhKUTvGj6Tm8+c1dt5cWUaefmOHw/rwl3Du9KwTmA3xwoDEZFq4JxjafIBpi9KYXdGFqMS2vDQuJ50bNEg0FUDFAYiEqpC6KqhjfuPMzUphY+3HqFbm4a8dtsghsS3DHS1/oPCQESkihw9lcMzyzbz10930rheJNMm9OKGgbHULunu4QCFm8JAREJbEPYIcvML+OuanTy7fAsns/OYdGEc91waT9P6UYGuWrEUBiIifvThlkNMTUphy8GTXNy1BY+M70X3to1KXzDAJ8QVBiIifrDj8CkeezeV5akHiG1en9k3D+CyhKodQsKfFAYiIpVw4kwuL6xMY+7q7URF1OL+MT24dUgcdWqXcwiJspwQr8LegsJARKQCCgocb32ezlNLNnH4ZDbX9I/m/jHdad24+oaQ8CeFgYhIOa3fmcFvFqTw9Z5M+sU2Zc7kRPrENPXPykvqEVTh+QSFgYhIGe3LzGLG4o288+Ve2jSuw3PX92VC3/Yhc16gJAoDEZFSnMnNZ/YH25i1aiv5zvHTEV350dAuNKiuISSq4QY7hYGISDGccyz6ej+PL0plz7Esxp7Xll9f3pOY5vUDXTW/UxiIiBQheW8mU5NS+HR7Bj3aNuL12wdzYZcWga1UFd5zoDAQkeDn78MjJazvyMlsZi7bzPzPdtGkXiSPXXUeEy+IKXkIiTCgMBARwTeExLxPdvLc8s2czsln8kVx3DOyG03qRwa6atVCYSAiwcvfl1QWs75Vf3iTaQtT2HroFP8V35JHxicQ36YMQ0iEEYWBiNRY2+o247GOw1nxylriWtRnzuRERvRoHRaXipaXwkBEgpe/L6n0lj8+chS/73ARf44ZSJ3aEfx6ZFcmX1SBISTCiMJARGqM/ALHW+t389s+P+RIZH2u69eBX43uQatGdQJdtYBTGIhI8PPDVURrd2QwJSmZb/YcZ0B8NHOvSKB3tJ+GkAgDCgMRCWt7jvmGkEjasJd2Tery/MS+XNknPIaQ8CeFgYiEpaycfP7wwVZefn8rzsHPRsZz59DO1I/SZq8oahURCSvOORZ+tY8nFqWyN/MM43u344GxPYhuFn5DSPiTwkBEwsY3ezKZkpTM2h1HSWjXmGev78ugzgEeQiJEKAxEJOQdPpnN00s38ca63TSrH8UTV5/P9xNjiKil8wJlpTAQkZCVk1fAqx/v4HfvbSErN5/bLu7ET0fG06RezRhCwp9KHXnJzOqa2WdmtsHMks1silfeycw+NbMtZvaGmUV55XW812ne9LhC63rQK99kZqMLlY/xytLM7AH/v00RCTcrNx5kzHMfMH1RKgPimrH055fw8PgEBUEFlaVnkA2McM6dNLNIYLWZLQZ+ATzrnJtvZi8DtwGzvJ9HnXNdzWwi8CRwvZklABOBXkB7YLmZdfN+x4vAZUA6sNbMFjjnUvz4PkUkTKQdPMm0hSm8v/kQnVs24JVbLmB4j9aBrlbIKzUMnHMOOOm9jPQeDhgB3OiVvwr8Bl8YTPCeA7wFvGC+C3onAPOdc9nAdjNLAwZ686U557YBmNl8b16FgYj8v8ysXJ5fvoV5n+ygXmQED4/ryaQL44iqHd5DS1eXMp0zMLMIYD3QFd9e/FbgmHMuz5slHejgPe8A7AZwzuWZWSbQwitfU2i1hZfZfU75oGLqcQdwB0BsbGxZqi4ioaKY8YfyCxzz1+5i5r83c/R0DhMviOXeUd1o2VBDSPhTmcLAOZcP9DWzpsA/gZ5Fzeb9LOr0vSuhvKhYd0WU4ZybDcwGSExMLHIeEQkfa7YdYUpSCqn7jjMwrjmPXJHAeR2aBLpaYalcVxM5546Z2SpgMNDUzGp7vYNoYK83WzoQA6SbWW2gCZBRqPyswssUVy4i4a6I7xhIj2rME5N/w7tf76ND03q8cGM/xp3fTkNIVKGyXE3UyusRYGb1gEuBVGAlcK0322TgHe/5Au813vQV3nmHBcBE72qjTkA88BmwFoj3rk6KwneSeYE/3pyIhJbTkXV4JvpiRva9lfc2HuDnl3Zj+S+GMr63xhKqamXpGbQDXvXOG9QC3nTOLTSzFGC+mT0GfAHM8eafA/zFO0GcgW/jjnMu2czexHdiOA+4yzv8hJndDSwFIoC5zrlkv71DEQluq1bhnGPBtT9mRuxQ9tVpzJV92vPA2B60b1ov0LWrMcy30x56EhMT3bp16wJdDRGppK/SjzElKYX1O49y3sn9PPrL73FBXPNAVyssmdl651xiUdN0B7KIBMTBE2f47ZJNvPV5Oi0aRPHUNb25dsDl1NIQEgGhMBCRapWdl88rH+3ghRVpZOflc8d/debuEV1pVFd3DgeSwkBEqoVzjvdSD/LYuynsOHKaS3u25qFxCXRq2SDQVRMUBiJSDbYcOMHUhSl8uOUwXVs35NVbBzK0W6tAV0sKURiISJXJPJ3Ls8s385c1O2kQFcGjVyTw34M7EhmhISSCjcJARPwuL7+A19fu5pl/byIzK5cbB8Xyi8u607xBVKCrJsVQGIiIX3289TBTk1LYuP8Egzs359EretGzXeNAV0tKoTAQEb/YnXGa6e+msiR5P9HN6jHrpv6MOa+t7hwOEQoDEamUU9l5vLQqjT9+uJ3atYxfje7ObUM6UTcyItBVk3JQGIhIhRQUON7ZsIcZizdy4Hg2V/frwH1jetC2Sd1AV00qQGEgIuX25e5jTElK5otdx+gT3YSXbhrAgI7NAl0tqQSFgYiU2cHjZ3hyySb+8Xk6rRrV4enr+nB1vw7lG0KimC+xkcBSGIhIqc7k5jP3o+28uCKN3HzHj4d14a7hXWlYR5uQcKG/pIgUyznHv1MOMP3dVHZlnGZUQhseGteTji0qMIREEV9iA6iHECQUBiJSpE37TzB1YTIfpR2hW5uGvHbbIIbEtwx0taSKKAxE5D8cPZXDs8s389qanTSqG8mUK3tx06BYald2CImzPQD1CIKSwkBEAN8QEn/9dBfPLNvMyew8bh7ckXsu7UYzDSFRIygMRITVWw4zdWEymw+c5OKuLXhkfC+6t21UNb9MPYKgpDAQqcF2HjnFY++msizlADHN6/GHmwcwKqGNhpCogRQGIjXQyew8XliRxtzV26kdYdw3pju3XqwhJGoyhYFIDVJQ4PjH5+k8tXQTh05kc03/aO4b0502jTWERE2nMBCpIdbvPMrUpGQ2pGfSN6Ypf5yUSN+YpoGulgQJhYFImNufeYYnl2zkn1/soXWjOjzz/T5c1becQ0hI2FMYiISpM7n5/OnDbby4civ5znH38K78eFgXGmgICSmCPhUiYcY5x5Jv9jN9USrpR7MYe15bfn15T2Ka16++SujGspCjMBAJI6n7jjMlKZk12zLo0bYRf7t9EBd10RASUjqFgUgYyDiVw8x/b+L1z3bRpF4k0646jxsuiKn8EBLlpcHoQpbCQCSE5eYX8JdPdvLc8s2cysln0oVx3HNpPE3rawgJKR+FgUiIen/zIaYmJbP10Cn+K74lj4xPIL5NFQ0hUVYajC5kKQxEQsz2w6d4bGEK7208SFyL+syZnMiIHq01hIRUisJAJEQcP5PLCyvSeOWj7dSpHcGDY3twy8Vx1KkdhENIqEcQchQGIkGuoMDx9/W7+e3STRw5lcN1A6L55ejutG6kISTEfxQGIkFs3Y4MpiSl8PWeTAZ0bMbcWy6gd7SGkBD/UxiIBKG9x7KYsXgjCzbspW3jujw/sS9X9mmv8wJSZRQGIkEkKyef2R9sY9b7aTgH/zOiKz8a1oX6UfpXlaqlT5hIEHDO8e7X+3hi0Ub2HMti3PnteGBsj+odQkJqNIWBSIB9syeTqUkpfLYjg57tGjPz+30Y3LlFoKslNUyp96qbWYyZrTSzVDNLNrOfeeXNzWyZmW3xfjbzys3MfmdmaWb2lZn1L7Suyd78W8xscqHyAWb2tbfM70wHRqUGOHwymwff/oorXlhN2qGTPP6981n40yEKAgmIsvQM8oB7nXOfm1kjYL2ZLQNuAd5zzs0wsweAB4D7gbFAvPcYBMwCBplZc+BRIBFw3noWOOeOevPcAawBFgFjgMX+e5siwSMnr4B5n+zg+eVbyMrN59aLO/E/I+NpUi8y0FWTGqzUMHDO7QP2ec9PmFkq0AGYAAzzZnsVWIUvDCYA85xzDlhjZk3NrJ037zLnXAaAFyhjzGwV0Ng594lXPg+4CoWBhKGVmw4ybWEK2w6dYlj3Vjw8LoGurRsGuloi5TtnYGZxQD/gU6CNFxQ45/aZWWtvtg7A7kKLpXtlJZWnF1Fe1O+/A18PgtjY2PJUXSSgth46yWMLU1i56RCdWzbglVsuYHiP1qUvGOw0BlHYKHMYmFlD4B/APc654yUc1i9qgqtA+XcLnZsNzAZITEwsch6RYJKZlcvv3tvCqx/voF5kBA+P68mkC+OIql3NQ0uLlKJMYWBmkfiC4K/Oube94gNm1s7rFbQDDnrl6UBMocWjgb1e+bBzyld55dFFzC8SsvILHG+u283TSzeRcTqHiRfEcO+o7rRsWCfQVStaeffw9b0FYacsVxMZMAdIdc49U2jSAuDsFUGTgXcKlU/yrioaDGR6h5OWAqPMrJl35dEoYKk37YSZDfZ+16RC6xIJOZ9uO8IVv1/Ng29/TZdWDUm6ewhPXN07eIOgNMOGfbuxl7BVlp7BxcDNwNdm9qVX9mtgBvCmmd0G7AKu86YtAi4H0oDTwA8AnHMZZjYNWOvNN/XsyWTgx8CfgXr4Thzr5LGEnD3Hsnh8USrvfrWP9k3q8vsb+jG+d7vgHkKionv4+t6CsFOWq4lWU/RxfYCRRczvgLuKWddcYG4R5euA80qri0gwOp2Tx8vvb+MP72/FDH42Mp4fDe1CvaggHFq6PHQoqEbRHcgiFeScY8GGvcxYvJF9mWe4ok97Hhjbgw5N6wW6amVX2T18BUPYUBiIVMDX6ZlMSUpm3c6j9GrfmOcn9mNgp+aBrpZ/6VBQjaIwECmHgyfO8PTSTfx9fTotGkTx5DXnc+2AGCJqBfF5gcKK27BrQ1/jKQxEyiA7L58/f7SD369IIzsvnx8O6cRPR8bTuG6AhpCozr11BUWNoDAQKc6wYTjgvZfe4LF3U9hx5DQje7TmoXE96dwqxIaQ0MlgKYXCQKQYaXWbMzVuBB/MW0eXVg348w8uYFj3AA8hoY26VBGFgdRsRWxMM0eO5rnoi5jX+xbq52TxyI73uPnTL4m8d0VQ1K9CdDJYSqEwkJqhDBvB/ALH65/tYmbfH5JZuy43fLmEX3z4Gi0G9quWKpZJWTbq2uBLBSgMpGY653DLx1fezNSOI9jYoDWDukXz6BW9SLhxJgzs992Nqr83tkWtr6oOBykgpBgKAwlvxW1UPbubtOHx4beyuPvFdMjOZNZN/RlzXtvgHkICSu4R6HyCVIDCQGqkU0uXM2vVVma/t5EIV8C9l3Xj9ks6Uzey0BASxfUIStrYlmcDXNL6dIxfqpnCQMLbORtVt3Il//pyDzNmruLA8WyuOrKZ+3e/T7vfLqz6ulT1hl0BIpWgMJAaY0ODtkyZ9TGf7zpG7+gmvHRTfwZ0HAf8qmwrKGljW5FDNGXZeGuDLtVEYSBh7+DxMzx11/O8tT6dlhlZ/Pba3lzTP5pa1TWERHUfy1eASAUoDCR8nLORzc7LZ+7qHbywYgs5+QXceUln7h7RlUaVHUKipD34imzotfGWIKAwkLDjnGNZygGmL0pl55HTXNqzDQ+P60lcywaBqZCO5UsIUBhI6Ct0GGZTy45M+/FLrG4aR3zrhsy7dSCXdGtVfXXRhl5ClMJAwsKxiLo8e+mdvNbvchoU5PKb7cu5afpMIiNK/Zrv6qOgkCCmMJCQlpdfwN+e+DPPLNvM8VPZ3HRgAz9/8T6aN7gm0FUTCSkKAwlZH6UdZkpSMpsPnOSiLi145O2n6ZF1GBo8HOiqiYQchYGEnJ1HTjH93VT+nXKAmOb1+MPNAxiV0Aa7/a1AV00kZCkMJGSczM7jxZVpzPlwO7UjjF+N7s5tQzr95xASIlIhCgMJegUFjre/2MOTSzZy6EQ2V/frwP1je9Cmcd1AV00kbCgMJKh9vusoUxYksyE9k74xTZn9yRz6rdkH168KdNVEworCQILS/swzPLlkI//8Yg+tG9Xhme/34aq+Haj194cCXTWRsKQwkKByJjefOau38+LKNPIKHHcN78JPhnWlwehLfTNorH6RKqEwkKDgnGNp8n4eezeV9KNZjOnVll9f3pPYFvUDXTWRGkFhIAGXuu84U5NS+GTbEbq3acTffjiIi7q2/M+ZNL6PSJVSGEjAHD2Vw8xlm/jbp7toXC+SaRN6ccPAWGoH0xASIjWEwkCqXW5+Aa+t2cmzyzZzKiefSRfGcc+l8TStH1X6wuoRiFQJhYFUqw82H2LqwhTSDp5kSNeWPHJFAt3aNPrujDocJFKtFAZSLbYfPsX0d1NYnnqQji3q88dJiVzaszVm1fRtYyJSIoWBVKkTZ3J5YUUacz/aTlRELe4f04Nbh8RRp3aE/75LWEQqTWEgVaKgwPHW+nSeev0TDkc14NoB0dw3ujutNYSESFBSGIjfrduRwZSkFL7ek0m/7EzmbHqbPjPmfztDSXv/uoRUJCAUBuIfw4axL6ohT/xgGgs27KVNzgme2/k+E95+GQMYtt83nzbuIkFJYSCVdiY3n9kdLmRW+4HkJ+/npyO68qMZd9OgILfoBcqy96/QEKlWpYaBmc0FxgMHnXPneWXNgTeAOGAH8H3n3FHzXRryPHA5cBq4xTn3ubfMZODsV1A95px71SsfAPwZqAcsAn7mnHN+en9ShZxzLLrmTh7vOIw9MUMYu+kjfn36G2JWH9fhHpEQU5ZbPf8MjDmn7AHgPedcPPCe9xpgLBDvPe4AZsH/h8ejwCBgIPComTXzlpnlzXt2uXN/lwSh5L2ZXD97DXd1m0DjvGzm/+0BZv3rCWKyj5d9JYXPEYhIQJXaM3DOfWBmcecUTwCGec9fBVYB93vl87w9+zVm1tTM2nnzLnPOZQCY2TJgjJmtAho75z7xyucBVwGLK/OmpIoMG8aR2vV4+idP8cbaXTStH8Xj3zuf6y+IIeLrV6Hz0O9u3LWxFwkJFT1n0MY5tw/AObfPzFp75R2A3YXmS/fKSipPL6K8SGZ2B75eBLGxsRWsupSqiEM7OXkFzGs7gOejLyJr3W5+cHEn/mdkPE3qRQakiiLiX/4+gVzU7aSuAuVFcs7NBmYDJCYm6rxCNVk14Ramxo1gW9wIhm5bx/8e30DXjzNg/KpCM60qbnERCQEVDYMDZtbO6xW0Aw565elATKH5ooG9Xvmwc8pXeeXRRcwvgXDO9f/bxnyPxzoOZ0XP6+iclcErf/8Nw7etg6FDA1dHEakSFR0reAEw2Xs+GXinUPkk8xkMZHqHk5YCo8ysmXfieBSw1Jt2wswGe1ciTSq0LgmQ41H1mT78Vkb1/gFrG0Xz0OU9WTLzJobHNPAFgU78ioSdslxa+jq+vfqWZpaO76qgGcCbZnYbsAu4zpt9Eb7LStPwXVr6AwDnXIaZTQPWevNNPXsyGfgx315auhidPA6Y/BUr+fu63fz2jTVk1K7P9QNjuXdUd1o1qhPoqolIFbNQvaQ/MTHRrVu3LtDVCF3nnCT+bHsGU5KSSd57nAuOp/Pojvc4b9GbAaueiPifma13ziUWNU13INdwe45l8cSiVBZ+tY/2Tery+xv6Mb735ZjdGeiqiUg1UhjUNF6PIOujNbw86Br+MH0pAPeMTuDOS7pQLyoigJUTkUBRGISzIu4XcMDCFt154vbJ7G3cmvGHU3lw1/t0+G1SIGooIkFCYVCDfLMnkykTH2ftjqP0OnWA55L/xsCkvwK/DHTVRCTAFAbh4NwewDn3Cxy67HJmRg/hjbZ9aF4/ihlXn8919z1NRPH394lIDaMwCDbFjfJZgdE/c2rV5tUBV/C7Pv9NVq3a/HBIJ346Mp7GdSNh1Uo/VFZEwoXCIJQV841hbuVKVm46yLRZ/2Z7veaM6NGah8b1pEurhgGppogEP4VBsCjuqyDPKuMXxKfVbc60V9by/uZDdMbxysa3GD7jFT9XVkTCjcIglBU6R5AZUYfn73mWeZ/soN6uo/zv+AQmXdiRyIhJgayhiIQIhUGwKO2bwYopzy9wzG/dh5kxQzj68XZuGBjLvZd1o0VDDSEhImWnMAgEP30V5CdbjzAlKZmNnUcxsFNzHr0igV7tm1S6eiJS8ygMgk1xAVGofHfGaZ5YnMqir/fToWk9XrqpP2PPa4tv4FcRkfJTGFSVovb+iztJXMYewumcPGat2sofPthGhBn3XtaN2y/pTN1IDSEhIpWjMAgBzjne+XIvMxZvZP/xM0zo254HxvagXZN6ga6aiIQJhYG/lbT3X9pJ4iJs2H2MKUnJfL7rGOd3aMILN/YjMa6536orIgIKg8rz08ngcx08cYanlmzirfXptGxYh6eu7c21/aOpVUvnBUTE/xQG/laWvf8SgiM7L59XPtrB79/bQk5+AXcO7czdw7vSqG6knysqIvIthUFFVfJk8LmccyxPPchj76aw88hpLu3ZhofG9aRTywaVramISKkUBmVRkQ19OebdfOAE0xam8OGWw3Rt3ZB5tw7kkm6tylNDEZFKURhUVAVOBp/r2Okcnlu+hb+s2UmDqAh+c0UCNw3uSGRELX/VUkSkTBQGZ1XBfQHFycsv4PXPdjFz2WaOZ+Vy46BYfnFZd5o3iKrUekVEKkphUFnlDIaP0w4zdWEKG/ef4MLOLXjkigR6tmtcNXUTESmjmhcGpXwrWGXvCyjOriOneXxRKkuS9xPdrB6zburPGA0hISJBouaFQTU7lZ3HS6vS+OOH26ldy/jV6O7cNqSThpAQkaBSc8KgtOP/FbwvoDgFBY5/fbmHGYs3cvBENlf368B9Y3rQtkndcq9LRKSq1ZwwqEZf7DrKlKQUvtx9jD4xTXn55gH0j20W6GqJiBSr5oRBaT0APwwnceD4GZ5cspG3P99Dq0Z1ePq6Plzdr4OGkBCRoFdzwqAKncnNZ87q7by4Mo28fMdPhnXhJ8O70rCOmldEQkPN21r5cUA55xxLkw8wfVEKuzOyGJXQhofHJRDbor7ffoeISHWoeWHgJ5v2n2DqwmQ+SjtCtzYNee22QQyJbxnoaomIVIjCoJyOnsrh2eWbeW3NThrVjWTqhF7cODCW2hpCQkRCmMKgjHLzC/jrmp08u3wLJ7PzuHlwR+65tBvNNISEiIQBhUEZrN5ymClJyWw5eJKLu7bgkfG96N62UaCrJSLiNwqDEuw4fIrpi1JZlnKA2Ob1mX3zAC5LaKMhJEQk7CgMinAyO48XVqQxd/V2IiOM+8f04NYhcZyau38AAAaLSURBVNSprSEkRCQ8KQwKKShw/OPzdJ5auolDJ7K5dkA0943uTuvGGkJCRMKbwsCzfudRpiYlsyE9k36xTfnTpET6xDQNdLVERKpF0ISBmY0BngcigD8552ZUx+/dl5nFk4s38q8v99KmcR2eu74vE/q213kBEalRgiIMzCwCeBG4DEgH1prZAudcSlX9zjO5+fzxg228tGor+c7x0xFd+dHQLjTQEBIiUgMFy5ZvIJDmnNsGYGbzgQmA38PAOceSb/YzfVEq6UezGHteW359eU9immsICRGpuYIlDDoAuwu9TgcGnTuTmd0B3AEQGxtb7l9yJjefW175jDXbMujRthF/u30QF3XREBIiIsESBkUdoHffKXBuNjAbIDEx8TvTS1M3MoK4Fg0Y37s9Ey+I0RASIiKeYAmDdCCm0OtoYG9V/KIZ1/SuitWKiIS0YNk1XgvEm1knM4sCJgILAlwnEZEaIyh6Bs65PDO7G1iK79LSuc655ABXS0SkxgiKMABwzi0CFgW6HiIiNVGwHCYSEZEAUhiIiIjCQEREFAYiIoLCQEREAHOu3DfyBgUzOwTsrODiLYHDfqxOqFI7+KgdfNQOPuHcDh2dc62KmhCyYVAZZrbOOZcY6HoEmtrBR+3go3bwqantoMNEIiKiMBARkZobBrMDXYEgoXbwUTv4qB18amQ71MhzBiIi8p9qas9AREQKURiIiEh4hIGZzTWzg2b2TaGyPmb2iZl9bWZJZtbYK7/JzL4s9Cgws77etAHe/Glm9jszK+ob2IJWOdsh0sxe9cpTzezBQsuMMbNNXjs8EIj3UlnlbIsoM3vFK99gZsMKLROynwkzizGzld7fN9nMfuaVNzezZWa2xfvZzCs37z2mmdlXZta/0Lome/NvMbPJgXpPFVWBtujhfVayzeyX56wr5P8/iuScC/kHcAnQH/imUNlaYKj3/FZgWhHLnQ9sK/T6M+BCfF/DuRgYG+j3VlXtANwIzPee1wd2AHH4vk9iK9AZiAI2AAmBfm9V3BZ3Aa94z1sD64Faof6ZANoB/b3njYDNQALwFPCAV/4A8KT3/HLvPRowGPjUK28ObPN+NvOeNwv0+6vitmgNXABMB35ZaD1h8f9R1CMsegbOuQ+AjHOKuwMfeM+XAdcUsegNwOsAZtYOaOyc+8T5/urzgKuqpsZVo5zt4IAGZlYbqAfkAMeBgUCac26bcy4HmA9MqOq6+1s52yIBeM9b7iBwDEgM9c+Ec26fc+5z7/kJIBXogO/v+ao326t8+54mAPOczxqgqdcGo4FlzrkM59xRfG03phrfSqWVty2ccwedc2uB3HNWFRb/H0UJizAoxjfAld7z6/jP71g+63q8MMD3wUgvNC3dKwt1xbXDW8ApYB+wC3jaOZeB7z3vLrR8uLQDFN8WG4AJZlbbzDoBA7xpYfOZMLM4oB/wKdDGObcPfBtJfHvBUPzfPqw+E2Vsi+KEVVsUFs5hcCtwl5mtx9ctzCk80cwGAaedc2ePKRd1LDgcrrstrh0GAvlAe6ATcK+ZdSZ82wGKb4u5+P6p1wHPAR8DeYRJW5hZQ+AfwD3OueMlzVpEmSuhPOSUoy2KXUURZSHZFucKmq+99Dfn3EZgFICZdQPGnTPLRL7tFYBvYxBd6HU0sLcq61gdSmiHG4Elzrlc4KCZfQQk4tvrKdyLCot2gOLbwjmXB/z87Hxm9jGwBThKiH8mzCwS38bvr865t73iA2bWzjm3zzsMdNArT6fov306MOyc8lVVWe+qUM62KE5xbRTywrZnYGatvZ+1gIeBlwtNq4XvMMH8s2VeF/GEmQ32rhiZBLxTrZWuAiW0wy5ghHcFSQN8Jww34jvJGm9mncwsCl9oLqj+mvtfcW1hZvW9NsDMLgPynHMpof6Z8Oo8B0h1zj1TaNIC4OwVQZP59j0tACZ5n4nBQKbXBkuBUWbWzLvaZpRXFjIq0BbFCdv/j4CfwfbHA98e/j58J3vSgduAn+G7YmAzMAPvbmtv/mHAmiLWk4jvuPJW4IXCy4TCozztADQE/g4kAynArwqt53Jv/q3AQ4F+X9XQFnHAJnwnFZfjG+Y35D8TwBB8hzC+Ar70HpcDLfCdMN/i/WzuzW/Ai957/RpILLSuW4E07/GDQL+3amiLtt7n5ji+CwrS8V1MEBb/H0U9NByFiIiE72EiEREpO4WBiIgoDERERGEgIiIoDEREBIWBiIigMBAREeD/AK5WUaRuhJBOAAAAAElFTkSuQmCC",
      "text/plain": [
       "<Figure size 432x288 with 1 Axes>"
      ]
     },
     "metadata": {
      "needs_background": "light"
     },
     "output_type": "display_data"
    }
   ],
   "source": [
    "plt.scatter(df2['year'],df2['per capita income (US$)'],color='red',marker='+')\n",
    "plt.plot(df2['year'],reg2.predict(df2[['year']]))"
   ]
  },
  {
   "cell_type": "code",
   "execution_count": 17,
   "metadata": {},
   "outputs": [
    {
     "data": {
      "text/plain": [
       "array([[41288.69409442]])"
      ]
     },
     "execution_count": 17,
     "metadata": {},
     "output_type": "execute_result"
    }
   ],
   "source": [
    "s=reg2.predict([[2020]])\n",
    "s"
   ]
  },
  {
   "cell_type": "code",
   "execution_count": 18,
   "metadata": {},
   "outputs": [
    {
     "data": {
      "text/html": [
       "<div>\n",
       "<style scoped>\n",
       "    .dataframe tbody tr th:only-of-type {\n",
       "        vertical-align: middle;\n",
       "    }\n",
       "\n",
       "    .dataframe tbody tr th {\n",
       "        vertical-align: top;\n",
       "    }\n",
       "\n",
       "    .dataframe thead th {\n",
       "        text-align: right;\n",
       "    }\n",
       "</style>\n",
       "<table border=\"1\" class=\"dataframe\">\n",
       "  <thead>\n",
       "    <tr style=\"text-align: right;\">\n",
       "      <th></th>\n",
       "      <th>area</th>\n",
       "    </tr>\n",
       "  </thead>\n",
       "  <tbody>\n",
       "    <tr>\n",
       "      <td>0</td>\n",
       "      <td>500</td>\n",
       "    </tr>\n",
       "    <tr>\n",
       "      <td>1</td>\n",
       "      <td>650</td>\n",
       "    </tr>\n",
       "    <tr>\n",
       "      <td>2</td>\n",
       "      <td>1200</td>\n",
       "    </tr>\n",
       "    <tr>\n",
       "      <td>3</td>\n",
       "      <td>1350</td>\n",
       "    </tr>\n",
       "    <tr>\n",
       "      <td>4</td>\n",
       "      <td>1489</td>\n",
       "    </tr>\n",
       "    <tr>\n",
       "      <td>5</td>\n",
       "      <td>1589</td>\n",
       "    </tr>\n",
       "    <tr>\n",
       "      <td>6</td>\n",
       "      <td>1604</td>\n",
       "    </tr>\n",
       "    <tr>\n",
       "      <td>7</td>\n",
       "      <td>1687</td>\n",
       "    </tr>\n",
       "    <tr>\n",
       "      <td>8</td>\n",
       "      <td>1745</td>\n",
       "    </tr>\n",
       "    <tr>\n",
       "      <td>9</td>\n",
       "      <td>1856</td>\n",
       "    </tr>\n",
       "    <tr>\n",
       "      <td>10</td>\n",
       "      <td>1926</td>\n",
       "    </tr>\n",
       "    <tr>\n",
       "      <td>11</td>\n",
       "      <td>1977</td>\n",
       "    </tr>\n",
       "    <tr>\n",
       "      <td>12</td>\n",
       "      <td>1989</td>\n",
       "    </tr>\n",
       "    <tr>\n",
       "      <td>13</td>\n",
       "      <td>2014</td>\n",
       "    </tr>\n",
       "  </tbody>\n",
       "</table>\n",
       "</div>"
      ],
      "text/plain": [
       "    area\n",
       "0    500\n",
       "1    650\n",
       "2   1200\n",
       "3   1350\n",
       "4   1489\n",
       "5   1589\n",
       "6   1604\n",
       "7   1687\n",
       "8   1745\n",
       "9   1856\n",
       "10  1926\n",
       "11  1977\n",
       "12  1989\n",
       "13  2014"
      ]
     },
     "execution_count": 18,
     "metadata": {},
     "output_type": "execute_result"
    }
   ],
   "source": [
    "df3=pd.read_csv('Areas.csv')\n",
    "\n",
    "df3.dropna()\n",
    "df3"
   ]
  },
  {
   "cell_type": "code",
   "execution_count": null,
   "metadata": {},
   "outputs": [],
   "source": []
  },
  {
   "cell_type": "code",
   "execution_count": 20,
   "metadata": {},
   "outputs": [
    {
     "data": {
      "text/plain": [
       "array([248510.2739726 , 268878.42465753, 343561.64383562, 363929.79452055,\n",
       "       382804.28082192, 396383.04794521, 398419.8630137 , 409690.23972603,\n",
       "       417565.92465753, 432638.35616438, 442143.49315068, 449068.66438356,\n",
       "       450698.11643836, 454092.80821918])"
      ]
     },
     "execution_count": 20,
     "metadata": {},
     "output_type": "execute_result"
    }
   ],
   "source": [
    "Estim = reg.predict(df3[['area']])\n",
    "Estim"
   ]
  },
  {
   "cell_type": "code",
   "execution_count": 21,
   "metadata": {},
   "outputs": [
    {
     "data": {
      "text/html": [
       "<div>\n",
       "<style scoped>\n",
       "    .dataframe tbody tr th:only-of-type {\n",
       "        vertical-align: middle;\n",
       "    }\n",
       "\n",
       "    .dataframe tbody tr th {\n",
       "        vertical-align: top;\n",
       "    }\n",
       "\n",
       "    .dataframe thead th {\n",
       "        text-align: right;\n",
       "    }\n",
       "</style>\n",
       "<table border=\"1\" class=\"dataframe\">\n",
       "  <thead>\n",
       "    <tr style=\"text-align: right;\">\n",
       "      <th></th>\n",
       "      <th>area</th>\n",
       "      <th>Predicted_Price</th>\n",
       "    </tr>\n",
       "  </thead>\n",
       "  <tbody>\n",
       "    <tr>\n",
       "      <td>0</td>\n",
       "      <td>500</td>\n",
       "      <td>248510.273973</td>\n",
       "    </tr>\n",
       "    <tr>\n",
       "      <td>1</td>\n",
       "      <td>650</td>\n",
       "      <td>268878.424658</td>\n",
       "    </tr>\n",
       "    <tr>\n",
       "      <td>2</td>\n",
       "      <td>1200</td>\n",
       "      <td>343561.643836</td>\n",
       "    </tr>\n",
       "    <tr>\n",
       "      <td>3</td>\n",
       "      <td>1350</td>\n",
       "      <td>363929.794521</td>\n",
       "    </tr>\n",
       "    <tr>\n",
       "      <td>4</td>\n",
       "      <td>1489</td>\n",
       "      <td>382804.280822</td>\n",
       "    </tr>\n",
       "  </tbody>\n",
       "</table>\n",
       "</div>"
      ],
      "text/plain": [
       "   area  Predicted_Price\n",
       "0   500    248510.273973\n",
       "1   650    268878.424658\n",
       "2  1200    343561.643836\n",
       "3  1350    363929.794521\n",
       "4  1489    382804.280822"
      ]
     },
     "execution_count": 21,
     "metadata": {},
     "output_type": "execute_result"
    }
   ],
   "source": [
    "df3['Predicted_Price'] = Estim\n",
    "df3.head()"
   ]
  },
  {
   "cell_type": "code",
   "execution_count": 22,
   "metadata": {},
   "outputs": [],
   "source": [
    "df3.to_csv('Areas')"
   ]
  },
  {
   "cell_type": "code",
   "execution_count": 23,
   "metadata": {},
   "outputs": [],
   "source": [
    "df3.to_csv('Asareas',index=False)"
   ]
  },
<<<<<<< HEAD
  {
   "cell_type": "code",
   "execution_count": null,
   "metadata": {},
   "outputs": [],
   "source": [
    "pwd"
   ]
  },
  {
   "cell_type": "markdown",
   "metadata": {},
   "source": [
    "# "
=======
  ,
   "source": [
    "from word2number import w2n"
>>>>>>> b0a91cec755655475634d42cbf9e37393b48a6d0
   ]
  },
  {
   "cell_type": "code",
   "execution_count": 33,
   "metadata": {},
   "outputs": [
    {
     "name": "stdout",
     "output_type": "stream",
     "text": [
      "Collecting word2number\n",
      "  Using cached https://files.pythonhosted.org/packages/4a/29/a31940c848521f0725f0df6b25dca8917f13a2025b0e8fcbe5d0457e45e6/word2number-1.1.zip\n",
      "Building wheels for collected packages: word2number\n",
      "  Building wheel for word2number (setup.py): started\n",
      "  Building wheel for word2number (setup.py): finished with status 'done'\n",
      "  Created wheel for word2number: filename=word2number-1.1-cp37-none-any.whl size=5591 sha256=1748cd3ac17946025786e069f3d1c884a581312ff45bc3c7d4db833a1192f8d1\n",
      "  Stored in directory: C:\\Users\\H\\AppData\\Local\\pip\\Cache\\wheels\\46\\2f\\53\\5f5c1d275492f2fce1cdab9a9bb12d49286dead829a4078e0e\n",
      "Successfully built word2number\n",
      "Installing collected packages: word2number\n",
      "Successfully installed word2number-1.1\n"
     ]
    }
   ],
   "source": [
    "import sys\n",
    "!{sys.executable} -m  pip install word2number"
   ]
  },
  {
   "cell_type": "code",
   "execution_count": 42,
   "metadata": {},
   "outputs": [],
   "source": [
    "import word2number\n",
    "from word2number import w2n"
   ]
  },
  {
   "cell_type": "code",
   "execution_count": 43,
   "metadata": {
    "scrolled": true
   },
   "outputs": [
    {
     "data": {
      "text/html": [
       "<div>\n",
       "<style scoped>\n",
       "    .dataframe tbody tr th:only-of-type {\n",
       "        vertical-align: middle;\n",
       "    }\n",
       "\n",
       "    .dataframe tbody tr th {\n",
       "        vertical-align: top;\n",
       "    }\n",
       "\n",
       "    .dataframe thead th {\n",
       "        text-align: right;\n",
       "    }\n",
       "</style>\n",
       "<table border=\"1\" class=\"dataframe\">\n",
       "  <thead>\n",
       "    <tr style=\"text-align: right;\">\n",
       "      <th></th>\n",
       "      <th>experience</th>\n",
       "      <th>test_score(out of 10)</th>\n",
       "      <th>interview_score(out of 10)</th>\n",
       "      <th>salary($)</th>\n",
       "    </tr>\n",
       "  </thead>\n",
       "  <tbody>\n",
       "    <tr>\n",
       "      <td>0</td>\n",
       "      <td>NaN</td>\n",
       "      <td>8.0</td>\n",
       "      <td>9</td>\n",
       "      <td>50000</td>\n",
       "    </tr>\n",
       "    <tr>\n",
       "      <td>1</td>\n",
       "      <td>NaN</td>\n",
       "      <td>8.0</td>\n",
       "      <td>6</td>\n",
       "      <td>45000</td>\n",
       "    </tr>\n",
       "    <tr>\n",
       "      <td>2</td>\n",
       "      <td>five</td>\n",
       "      <td>6.0</td>\n",
       "      <td>7</td>\n",
       "      <td>60000</td>\n",
       "    </tr>\n",
       "    <tr>\n",
       "      <td>3</td>\n",
       "      <td>two</td>\n",
       "      <td>10.0</td>\n",
       "      <td>10</td>\n",
       "      <td>65000</td>\n",
       "    </tr>\n",
       "    <tr>\n",
       "      <td>4</td>\n",
       "      <td>seven</td>\n",
       "      <td>9.0</td>\n",
       "      <td>6</td>\n",
       "      <td>70000</td>\n",
       "    </tr>\n",
       "  </tbody>\n",
       "</table>\n",
       "</div>"
      ],
      "text/plain": [
       "  experience  test_score(out of 10)  interview_score(out of 10)  salary($)\n",
       "0        NaN                    8.0                           9      50000\n",
       "1        NaN                    8.0                           6      45000\n",
       "2       five                    6.0                           7      60000\n",
       "3        two                   10.0                          10      65000\n",
       "4      seven                    9.0                           6      70000"
      ]
     },
     "execution_count": 43,
     "metadata": {},
     "output_type": "execute_result"
    }
   ],
   "source": [
    "df21=pd.read_csv('hiring.csv')\n",
    "df21.head()\n"
   ]
  },
  {
   "cell_type": "code",
   "execution_count": 113,
   "metadata": {},
   "outputs": [
    {
     "data": {
      "text/html": [
       "<div>\n",
       "<style scoped>\n",
       "    .dataframe tbody tr th:only-of-type {\n",
       "        vertical-align: middle;\n",
       "    }\n",
       "\n",
       "    .dataframe tbody tr th {\n",
       "        vertical-align: top;\n",
       "    }\n",
       "\n",
       "    .dataframe thead th {\n",
       "        text-align: right;\n",
       "    }\n",
       "</style>\n",
       "<table border=\"1\" class=\"dataframe\">\n",
       "  <thead>\n",
       "    <tr style=\"text-align: right;\">\n",
       "      <th></th>\n",
       "      <th>experience</th>\n",
       "      <th>test_score(out of 10)</th>\n",
       "      <th>interview_score(out of 10)</th>\n",
       "      <th>salary($)</th>\n",
       "    </tr>\n",
       "  </thead>\n",
       "  <tbody>\n",
       "    <tr>\n",
       "      <td>0</td>\n",
       "      <td>zero</td>\n",
       "      <td>8.0</td>\n",
       "      <td>9</td>\n",
       "      <td>50000</td>\n",
       "    </tr>\n",
       "    <tr>\n",
       "      <td>1</td>\n",
       "      <td>zero</td>\n",
       "      <td>8.0</td>\n",
       "      <td>6</td>\n",
       "      <td>45000</td>\n",
       "    </tr>\n",
       "    <tr>\n",
       "      <td>2</td>\n",
       "      <td>five</td>\n",
       "      <td>6.0</td>\n",
       "      <td>7</td>\n",
       "      <td>60000</td>\n",
       "    </tr>\n",
       "    <tr>\n",
       "      <td>3</td>\n",
       "      <td>two</td>\n",
       "      <td>10.0</td>\n",
       "      <td>10</td>\n",
       "      <td>65000</td>\n",
       "    </tr>\n",
       "    <tr>\n",
       "      <td>4</td>\n",
       "      <td>seven</td>\n",
       "      <td>9.0</td>\n",
       "      <td>6</td>\n",
       "      <td>70000</td>\n",
       "    </tr>\n",
       "    <tr>\n",
       "      <td>5</td>\n",
       "      <td>three</td>\n",
       "      <td>7.0</td>\n",
       "      <td>10</td>\n",
       "      <td>62000</td>\n",
       "    </tr>\n",
       "    <tr>\n",
       "      <td>6</td>\n",
       "      <td>ten</td>\n",
       "      <td>NaN</td>\n",
       "      <td>7</td>\n",
       "      <td>72000</td>\n",
       "    </tr>\n",
       "    <tr>\n",
       "      <td>7</td>\n",
       "      <td>eleven</td>\n",
       "      <td>7.0</td>\n",
       "      <td>8</td>\n",
       "      <td>80000</td>\n",
       "    </tr>\n",
       "  </tbody>\n",
       "</table>\n",
       "</div>"
      ],
      "text/plain": [
       "  experience  test_score(out of 10)  interview_score(out of 10)  salary($)\n",
       "0       zero                    8.0                           9      50000\n",
       "1       zero                    8.0                           6      45000\n",
       "2       five                    6.0                           7      60000\n",
       "3        two                   10.0                          10      65000\n",
       "4      seven                    9.0                           6      70000\n",
       "5      three                    7.0                          10      62000\n",
       "6        ten                    NaN                           7      72000\n",
       "7     eleven                    7.0                           8      80000"
      ]
     },
     "execution_count": 113,
     "metadata": {},
     "output_type": "execute_result"
    }
   ],
   "source": [
    "df22=df21.copy()\n",
    "df22['experience']=df22['experience'].fillna('zero')\n",
    "df22"
   ]
  },
  {
   "cell_type": "code",
   "execution_count": 114,
   "metadata": {},
   "outputs": [],
   "source": [
    "\n",
    "df22['experience'] = df22['experience'].apply([lambda x: float(w2n.word_to_num(x)) for x in df22['experience']])\n"
   ]
  },
  {
   "cell_type": "code",
   "execution_count": 115,
   "metadata": {},
   "outputs": [
    {
     "data": {
      "text/html": [
       "<div>\n",
       "<style scoped>\n",
       "    .dataframe tbody tr th:only-of-type {\n",
       "        vertical-align: middle;\n",
       "    }\n",
       "\n",
       "    .dataframe tbody tr th {\n",
       "        vertical-align: top;\n",
       "    }\n",
       "\n",
       "    .dataframe thead th {\n",
       "        text-align: right;\n",
       "    }\n",
       "</style>\n",
       "<table border=\"1\" class=\"dataframe\">\n",
       "  <thead>\n",
       "    <tr style=\"text-align: right;\">\n",
       "      <th></th>\n",
       "      <th>experience</th>\n",
       "      <th>test_score(out of 10)</th>\n",
       "      <th>interview_score(out of 10)</th>\n",
       "      <th>salary($)</th>\n",
       "    </tr>\n",
       "  </thead>\n",
       "  <tbody>\n",
       "    <tr>\n",
       "      <td>0</td>\n",
       "      <td>0.0</td>\n",
       "      <td>8.0</td>\n",
       "      <td>9</td>\n",
       "      <td>50000</td>\n",
       "    </tr>\n",
       "    <tr>\n",
       "      <td>1</td>\n",
       "      <td>0.0</td>\n",
       "      <td>8.0</td>\n",
       "      <td>6</td>\n",
       "      <td>45000</td>\n",
       "    </tr>\n",
       "    <tr>\n",
       "      <td>2</td>\n",
       "      <td>5.0</td>\n",
       "      <td>6.0</td>\n",
       "      <td>7</td>\n",
       "      <td>60000</td>\n",
       "    </tr>\n",
       "    <tr>\n",
       "      <td>3</td>\n",
       "      <td>2.0</td>\n",
       "      <td>10.0</td>\n",
       "      <td>10</td>\n",
       "      <td>65000</td>\n",
       "    </tr>\n",
       "    <tr>\n",
       "      <td>4</td>\n",
       "      <td>7.0</td>\n",
       "      <td>9.0</td>\n",
       "      <td>6</td>\n",
       "      <td>70000</td>\n",
       "    </tr>\n",
       "    <tr>\n",
       "      <td>5</td>\n",
       "      <td>3.0</td>\n",
       "      <td>7.0</td>\n",
       "      <td>10</td>\n",
       "      <td>62000</td>\n",
       "    </tr>\n",
       "    <tr>\n",
       "      <td>6</td>\n",
       "      <td>10.0</td>\n",
       "      <td>8.0</td>\n",
       "      <td>7</td>\n",
       "      <td>72000</td>\n",
       "    </tr>\n",
       "    <tr>\n",
       "      <td>7</td>\n",
       "      <td>11.0</td>\n",
       "      <td>7.0</td>\n",
       "      <td>8</td>\n",
       "      <td>80000</td>\n",
       "    </tr>\n",
       "  </tbody>\n",
       "</table>\n",
       "</div>"
      ],
      "text/plain": [
       "   experience  test_score(out of 10)  interview_score(out of 10)  salary($)\n",
       "0         0.0                    8.0                           9      50000\n",
       "1         0.0                    8.0                           6      45000\n",
       "2         5.0                    6.0                           7      60000\n",
       "3         2.0                   10.0                          10      65000\n",
       "4         7.0                    9.0                           6      70000\n",
       "5         3.0                    7.0                          10      62000\n",
       "6        10.0                    8.0                           7      72000\n",
       "7        11.0                    7.0                           8      80000"
      ]
     },
     "execution_count": 115,
     "metadata": {},
     "output_type": "execute_result"
    }
   ],
   "source": [
    "import math\n",
    "# median or mean\n",
    "df22['test_score(out of 10)']=df22['test_score(out of 10)'].fillna(math.floor(df22['test_score(out of 10)'].median()))\n",
    "df22"
   ]
  },
  {
   "cell_type": "code",
   "execution_count": 116,
   "metadata": {},
   "outputs": [
    {
     "data": {
      "text/plain": [
       "LinearRegression(copy_X=True, fit_intercept=True, n_jobs=None, normalize=False)"
      ]
     },
     "execution_count": 116,
     "metadata": {},
     "output_type": "execute_result"
    }
   ],
   "source": [
    "reg22=linear_model.LinearRegression()\n",
    "reg22.fit(df22[['experience','test_score(out of 10)','interview_score(out of 10)']],df22['salary($)'])"
   ]
  },
  {
   "cell_type": "code",
   "execution_count": 117,
   "metadata": {},
   "outputs": [
    {
     "data": {
      "text/plain": [
       "array([53205.96797671])"
      ]
     },
     "execution_count": 117,
     "metadata": {},
     "output_type": "execute_result"
    }
   ],
   "source": [
    "reg22.predict([[2,9,6]])"
   ]
  },
  {
   "cell_type": "code",
   "execution_count": 118,
   "metadata": {},
   "outputs": [
    {
     "data": {
      "text/plain": [
       "array([92002.18340611])"
      ]
     },
     "execution_count": 118,
     "metadata": {},
     "output_type": "execute_result"
    }
   ],
   "source": [
    "reg22.predict([[12,10,10]])"
   ]
  },
  {
   "cell_type": "code",
   "execution_count": null,
   "metadata": {},
   "outputs": [],
   "source": []
  }
 ],
 "metadata": {
  "kernelspec": {
   "display_name": "Python 3",
   "language": "python",
   "name": "python3"
  },
  "language_info": {
   "codemirror_mode": {
    "name": "ipython",
    "version": 3
   },
   "file_extension": ".py",
   "mimetype": "text/x-python",
   "name": "python",
   "nbconvert_exporter": "python",
   "pygments_lexer": "ipython3",
   "version": "3.7.4"
  }
 },
 "nbformat": 4,
 "nbformat_minor": 2
}
